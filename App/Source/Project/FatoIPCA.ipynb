{
 "cells": [
  {
   "cell_type": "markdown",
   "metadata": {},
   "source": [
    "Data extracted from https://dados.gov.br/dados/conjuntos-dados/ia-indice-nacional-de-precos-ao-consumidor-amplo-ipca\n",
    "mirroring what's in https://brasilindicadores.com.br/ipca/"
   ]
  },
  {
   "cell_type": "code",
   "execution_count": 298,
   "metadata": {},
   "outputs": [],
   "source": [
    "import locale\n",
    "import requests\n",
    "import pandas as pd\n",
    "\n",
    "from pandas import DataFrame\n",
    "from datetime import datetime, timedelta"
   ]
  },
  {
   "cell_type": "markdown",
   "metadata": {},
   "source": [
    "# Extract"
   ]
  },
  {
   "cell_type": "code",
   "execution_count": 299,
   "metadata": {},
   "outputs": [
    {
     "data": {
      "text/plain": [
       "'pt_BR.UTF-8'"
      ]
     },
     "execution_count": 299,
     "metadata": {},
     "output_type": "execute_result"
    }
   ],
   "source": [
    "locale.setlocale(locale.LC_ALL, 'pt_BR.UTF-8')"
   ]
  },
  {
   "cell_type": "code",
   "execution_count": 300,
   "metadata": {},
   "outputs": [],
   "source": [
    "FatoIpca = requests.get(\"https://apisidra.ibge.gov.br/values/t/1737/n1/all/v/all/p/all/d/v63%202,v69%202,v2266%2013,v2263%202,v2264%202,v2265%202?formato=json\")"
   ]
  },
  {
   "cell_type": "code",
   "execution_count": 301,
   "metadata": {},
   "outputs": [],
   "source": [
    "FatoIPCA = DataFrame(FatoIpca.json())"
   ]
  },
  {
   "cell_type": "code",
   "execution_count": 302,
   "metadata": {},
   "outputs": [],
   "source": [
    "FatoIPCA = FatoIPCA.drop(FatoIPCA.index[0]).reset_index(drop=True)"
   ]
  },
  {
   "cell_type": "markdown",
   "metadata": {},
   "source": [
    "# IPCA mensal"
   ]
  },
  {
   "cell_type": "code",
   "execution_count": 303,
   "metadata": {},
   "outputs": [],
   "source": [
    "FatoIpca1m = FatoIPCA[(FatoIPCA[\"MN\"] == '%') & (FatoIPCA[\"D2N\"] == 'IPCA - Variação mensal')]"
   ]
  },
  {
   "cell_type": "code",
   "execution_count": 304,
   "metadata": {},
   "outputs": [],
   "source": [
    "FatoIpca1m = FatoIpca1m.astype(\n",
    "    dtype = {\n",
    "        \"V\": float\n",
    "        ,\"D3N\": str\n",
    "    }\n",
    ")"
   ]
  },
  {
   "cell_type": "code",
   "execution_count": 305,
   "metadata": {},
   "outputs": [],
   "source": [
    "FatoIpca1m.insert(\n",
    "    loc = 0\n",
    "    ,column = \"Data Referencia\"\n",
    "    ,value = FatoIPCA[\"D3N\"].apply(lambda date: datetime.strptime(date, \"%B %Y\"))\n",
    ")"
   ]
  },
  {
   "cell_type": "code",
   "execution_count": 306,
   "metadata": {},
   "outputs": [],
   "source": [
    "FatoIpca1m = FatoIpca1m.reindex(\n",
    "    columns = [\n",
    "        \"Data Referencia\"\n",
    "        ,\"V\"\n",
    "    ]\n",
    ")"
   ]
  },
  {
   "cell_type": "code",
   "execution_count": 307,
   "metadata": {},
   "outputs": [],
   "source": [
    "FatoIpca1m = FatoIpca1m.rename(\n",
    "    columns = {\n",
    "        \"V\": \"Variação Mês\"\n",
    "    }\n",
    ")"
   ]
  },
  {
   "cell_type": "code",
   "execution_count": 308,
   "metadata": {},
   "outputs": [],
   "source": [
    "FatoIpca1m = FatoIpca1m[FatoIpca1m[\"Data Referencia\"] == datetime(datetime.now().year, datetime.now().month - 2, 1)]"
   ]
  },
  {
   "cell_type": "markdown",
   "metadata": {},
   "source": [
    "# IPCA acumulado no ano"
   ]
  },
  {
   "cell_type": "code",
   "execution_count": 309,
   "metadata": {},
   "outputs": [],
   "source": [
    "FatoIpca1a = FatoIPCA[(FatoIPCA[\"MN\"] == '%') & (FatoIPCA[\"D2N\"] == 'IPCA - Variação acumulada no ano')]"
   ]
  },
  {
   "cell_type": "code",
   "execution_count": 310,
   "metadata": {},
   "outputs": [],
   "source": [
    "FatoIpca1a = FatoIpca1a.astype(\n",
    "    dtype = {\n",
    "        \"V\": float\n",
    "        ,\"D3N\": str\n",
    "    }\n",
    ")"
   ]
  },
  {
   "cell_type": "code",
   "execution_count": 311,
   "metadata": {},
   "outputs": [],
   "source": [
    "FatoIpca1a.insert(\n",
    "    loc = 0\n",
    "    ,column = \"Data Referencia\"\n",
    "    ,value = FatoIPCA[\"D3N\"].apply(lambda date: datetime.strptime(date, \"%B %Y\"))\n",
    ")"
   ]
  },
  {
   "cell_type": "code",
   "execution_count": 312,
   "metadata": {},
   "outputs": [],
   "source": [
    "FatoIpca1a = FatoIpca1a.reindex(\n",
    "    columns = [\n",
    "        \"Data Referencia\"\n",
    "        ,\"V\"\n",
    "    ]\n",
    ")"
   ]
  },
  {
   "cell_type": "code",
   "execution_count": 313,
   "metadata": {},
   "outputs": [],
   "source": [
    "FatoIpca1a = FatoIpca1a.rename(\n",
    "    columns = {\n",
    "        \"V\": \"Variação Ano\"\n",
    "    }\n",
    ")"
   ]
  },
  {
   "cell_type": "code",
   "execution_count": 314,
   "metadata": {},
   "outputs": [],
   "source": [
    "FatoIpca1a = FatoIpca1a[FatoIpca1a[\"Data Referencia\"] == datetime(datetime.now().year, datetime.now().month - 2, 1)]"
   ]
  },
  {
   "cell_type": "markdown",
   "metadata": {},
   "source": [
    "# IPCA acumulado em 12 meses"
   ]
  },
  {
   "cell_type": "code",
   "execution_count": 315,
   "metadata": {},
   "outputs": [],
   "source": [
    "FatoIpca12m = FatoIPCA[(FatoIPCA[\"MN\"] == '%') & (FatoIPCA[\"D2N\"] == 'IPCA - Variação acumulada em 12 meses')]"
   ]
  },
  {
   "cell_type": "code",
   "execution_count": 316,
   "metadata": {},
   "outputs": [],
   "source": [
    "FatoIpca12m = FatoIpca12m.astype(\n",
    "    dtype = {\n",
    "        \"V\": float\n",
    "        ,\"D3N\": str\n",
    "    }\n",
    ")"
   ]
  },
  {
   "cell_type": "code",
   "execution_count": 317,
   "metadata": {},
   "outputs": [],
   "source": [
    "FatoIpca12m.insert(\n",
    "    loc = 0\n",
    "    ,column = \"Data Referencia\"\n",
    "    ,value = FatoIPCA[\"D3N\"].apply(lambda date: datetime.strptime(date, \"%B %Y\"))\n",
    ")"
   ]
  },
  {
   "cell_type": "code",
   "execution_count": 318,
   "metadata": {},
   "outputs": [],
   "source": [
    "FatoIpca12m = FatoIpca12m.reindex(\n",
    "    columns = [\n",
    "        \"Data Referencia\"\n",
    "        ,\"V\"\n",
    "    ]\n",
    ")"
   ]
  },
  {
   "cell_type": "code",
   "execution_count": 319,
   "metadata": {},
   "outputs": [],
   "source": [
    "FatoIpca12m = FatoIpca12m.rename(\n",
    "    columns = {\n",
    "        \"V\": \"Variação 12m\"\n",
    "    }\n",
    ")"
   ]
  },
  {
   "cell_type": "code",
   "execution_count": 320,
   "metadata": {},
   "outputs": [],
   "source": [
    "FatoIpca12m = FatoIpca12m[FatoIpca12m[\"Data Referencia\"] == datetime(datetime.now().year, datetime.now().month - 2, 1)]"
   ]
  },
  {
   "cell_type": "markdown",
   "metadata": {},
   "source": [
    "# IPCA acumulado em 6 meses"
   ]
  },
  {
   "cell_type": "code",
   "execution_count": 321,
   "metadata": {},
   "outputs": [],
   "source": [
    "FatoIpca6m = FatoIPCA[(FatoIPCA[\"MN\"] == '%') & (FatoIPCA[\"D2N\"] == 'IPCA - Variação acumulada em 6 meses')]"
   ]
  },
  {
   "cell_type": "code",
   "execution_count": 322,
   "metadata": {},
   "outputs": [],
   "source": [
    "FatoIpca6m = FatoIpca6m.astype(\n",
    "    dtype = {\n",
    "        \"V\": float\n",
    "        ,\"D3N\": str\n",
    "    }\n",
    ")"
   ]
  },
  {
   "cell_type": "code",
   "execution_count": 323,
   "metadata": {},
   "outputs": [],
   "source": [
    "FatoIpca6m.insert(\n",
    "    loc = 0\n",
    "    ,column = \"Data Referencia\"\n",
    "    ,value = FatoIPCA[\"D3N\"].apply(lambda date: datetime.strptime(date, \"%B %Y\"))\n",
    ")"
   ]
  },
  {
   "cell_type": "code",
   "execution_count": 324,
   "metadata": {},
   "outputs": [],
   "source": [
    "FatoIpca6m = FatoIpca6m.reindex(\n",
    "    columns = [\n",
    "        \"Data Referencia\"\n",
    "        ,\"V\"\n",
    "    ]\n",
    ")"
   ]
  },
  {
   "cell_type": "code",
   "execution_count": 325,
   "metadata": {},
   "outputs": [],
   "source": [
    "FatoIpca6m = FatoIpca6m.rename(\n",
    "    columns = {\n",
    "        \"V\": \"Variação 6m\"\n",
    "    }\n",
    ")"
   ]
  },
  {
   "cell_type": "code",
   "execution_count": 326,
   "metadata": {},
   "outputs": [],
   "source": [
    "FatoIpca6m = FatoIpca6m[FatoIpca6m[\"Data Referencia\"] == datetime(datetime.now().year, datetime.now().month - 2, 1)]"
   ]
  },
  {
   "cell_type": "markdown",
   "metadata": {},
   "source": [
    "# IPCA acumulado em 3 meses"
   ]
  },
  {
   "cell_type": "code",
   "execution_count": 327,
   "metadata": {},
   "outputs": [],
   "source": [
    "FatoIpca3m = FatoIPCA[(FatoIPCA[\"MN\"] == '%') & (FatoIPCA[\"D2N\"] == 'IPCA - Variação acumulada em 3 meses')]"
   ]
  },
  {
   "cell_type": "code",
   "execution_count": 328,
   "metadata": {},
   "outputs": [],
   "source": [
    "FatoIpca3m = FatoIpca3m.astype(\n",
    "    dtype = {\n",
    "        \"V\": float\n",
    "        ,\"D3N\": str\n",
    "    }\n",
    ")"
   ]
  },
  {
   "cell_type": "code",
   "execution_count": 329,
   "metadata": {},
   "outputs": [],
   "source": [
    "FatoIpca3m.insert(\n",
    "    loc = 0\n",
    "    ,column = \"Data Referencia\"\n",
    "    ,value = FatoIPCA[\"D3N\"].apply(lambda date: datetime.strptime(date, \"%B %Y\"))\n",
    ")"
   ]
  },
  {
   "cell_type": "code",
   "execution_count": 330,
   "metadata": {},
   "outputs": [],
   "source": [
    "FatoIpca3m = FatoIpca3m.reindex(\n",
    "    columns = [\n",
    "        \"Data Referencia\"\n",
    "        ,\"V\"\n",
    "    ]\n",
    ")"
   ]
  },
  {
   "cell_type": "code",
   "execution_count": 331,
   "metadata": {},
   "outputs": [],
   "source": [
    "FatoIpca3m = FatoIpca3m.rename(\n",
    "    columns = {\n",
    "        \"V\": \"Variação 3m\"\n",
    "    }\n",
    ")"
   ]
  },
  {
   "cell_type": "code",
   "execution_count": 332,
   "metadata": {},
   "outputs": [],
   "source": [
    "FatoIpca3m = FatoIpca3m[FatoIpca3m[\"Data Referencia\"] == datetime(datetime.now().year, datetime.now().month - 2, 1)]"
   ]
  },
  {
   "cell_type": "markdown",
   "metadata": {},
   "source": [
    "# IPCA"
   ]
  },
  {
   "cell_type": "code",
   "execution_count": 333,
   "metadata": {},
   "outputs": [],
   "source": [
    "FatoIPCA = FatoIpca1m.merge(FatoIpca1a, on = \"Data Referencia\").merge(FatoIpca12m, on = \"Data Referencia\").merge(FatoIpca6m, on = \"Data Referencia\").merge(FatoIpca3m, on = \"Data Referencia\")"
   ]
  },
  {
   "cell_type": "code",
   "execution_count": 334,
   "metadata": {},
   "outputs": [
    {
     "data": {
      "text/html": [
       "<div>\n",
       "<style scoped>\n",
       "    .dataframe tbody tr th:only-of-type {\n",
       "        vertical-align: middle;\n",
       "    }\n",
       "\n",
       "    .dataframe tbody tr th {\n",
       "        vertical-align: top;\n",
       "    }\n",
       "\n",
       "    .dataframe thead th {\n",
       "        text-align: right;\n",
       "    }\n",
       "</style>\n",
       "<table border=\"1\" class=\"dataframe\">\n",
       "  <thead>\n",
       "    <tr style=\"text-align: right;\">\n",
       "      <th></th>\n",
       "      <th>Data Referencia</th>\n",
       "      <th>Variação Mês</th>\n",
       "      <th>Variação Ano</th>\n",
       "      <th>Variação 12m</th>\n",
       "      <th>Variação 6m</th>\n",
       "      <th>Variação 3m</th>\n",
       "    </tr>\n",
       "  </thead>\n",
       "  <tbody>\n",
       "    <tr>\n",
       "      <th>0</th>\n",
       "      <td>2024-01-01</td>\n",
       "      <td>0.42</td>\n",
       "      <td>0.42</td>\n",
       "      <td>4.51</td>\n",
       "      <td>2.01</td>\n",
       "      <td>1.27</td>\n",
       "    </tr>\n",
       "  </tbody>\n",
       "</table>\n",
       "</div>"
      ],
      "text/plain": [
       "  Data Referencia  Variação Mês  ...  Variação 6m  Variação 3m\n",
       "0      2024-01-01          0.42  ...         2.01         1.27\n",
       "\n",
       "[1 rows x 6 columns]"
      ]
     },
     "execution_count": 334,
     "metadata": {},
     "output_type": "execute_result"
    }
   ],
   "source": [
    "FatoIPCA"
   ]
  }
 ],
 "metadata": {
  "kernelspec": {
   "display_name": ".venv",
   "language": "python",
   "name": "python3"
  },
  "language_info": {
   "codemirror_mode": {
    "name": "ipython",
    "version": 3
   },
   "file_extension": ".py",
   "mimetype": "text/x-python",
   "name": "python",
   "nbconvert_exporter": "python",
   "pygments_lexer": "ipython3",
   "version": "3.12.2"
  }
 },
 "nbformat": 4,
 "nbformat_minor": 2
}
